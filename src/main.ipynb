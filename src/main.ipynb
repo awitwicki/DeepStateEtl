{
 "cells": [
  {
   "cell_type": "code",
   "execution_count": 1,
   "metadata": {},
   "outputs": [],
   "source": [
    "import os\n",
    "import matplotlib.pyplot as plt\n",
    "from helpers import download_file, read_json_file, download_json_geodata_from_item, calculate_area_from_file, smooth_data\n",
    "directory_path = 'data'"
   ]
  },
  {
   "cell_type": "markdown",
   "metadata": {},
   "source": [
    "## Download files"
   ]
  },
  {
   "cell_type": "code",
   "execution_count": null,
   "metadata": {},
   "outputs": [],
   "source": [
    "# Download root file\n",
    "download_url = 'https://deepstatemap.live/api/history/public'\n",
    "root_json_file_name = 'data/public.json'\n",
    "\n",
    "if not os.path.exists(root_json_file_name):\n",
    "    download_file(download_url, root_json_file_name)\n",
    "\n",
    "# Download days files\n",
    "count_files_to_download_from_today = 20\n",
    "\n",
    "global_json_data = read_json_file(root_json_file_name)\n",
    "global_json_data = reversed(global_json_data)\n",
    "global_json_data = list(global_json_data)[:count_files_to_download_from_today]\n",
    "\n",
    "for json_data in global_json_data:\n",
    "    download_json_geodata_from_item(json_data, sleep_seconds = 1)\n",
    "    print('Downloaded file', json_data['createdAt'])\n",
    "\n",
    "print('Done')"
   ]
  },
  {
   "cell_type": "markdown",
   "metadata": {},
   "source": [
    "## Build chart"
   ]
  },
  {
   "cell_type": "code",
   "execution_count": null,
   "metadata": {},
   "outputs": [],
   "source": [
    "\n",
    "# Data analysis of last 280 days\n",
    "count_files_to_analyze_from_today = 280\n",
    "\n",
    "json_files = [f for f in os.listdir(directory_path) if f.endswith(\".json\") and 'public' not in f]\n",
    "json_files = list(sorted(json_files))\n",
    "json_files = json_files[-count_files_to_analyze_from_today:]\n",
    "\n",
    "result = {}\n",
    "\n",
    "for json_file_name in sorted(json_files):\n",
    "    date_str = json_file_name.split('.')[0]\n",
    "    total_area_km2 = calculate_area_from_file(f'data/{json_file_name}')\n",
    "    result[date_str] = total_area_km2\n",
    "\n",
    "window_size = 7\n",
    "deltas, dates = smooth_data(result, window_size)\n",
    "\n",
    "deltas = deltas[window_size:]\n",
    "dates = dates[window_size:]\n",
    "\n",
    "# Chart\n",
    "plt.figure(figsize=(10, 6))\n",
    "plt.plot(dates, deltas)\n",
    "\n",
    "plt.xticks(rotation=45)\n",
    "plt.legend()\n",
    "\n",
    "plt.xticks(dates[::30], rotation=45)\n",
    "plt.grid(axis='x', which='both', linestyle='-', linewidth=0.5)\n",
    "plt.grid(axis='y', which='both', linestyle='-', linewidth=0.5)\n",
    "\n",
    "plt.tight_layout()\n",
    "plt.show()"
   ]
  }
 ],
 "metadata": {
  "kernelspec": {
   "display_name": "deepstate_etl",
   "language": "python",
   "name": "python3"
  },
  "language_info": {
   "codemirror_mode": {
    "name": "ipython",
    "version": 3
   },
   "file_extension": ".py",
   "mimetype": "text/x-python",
   "name": "python",
   "nbconvert_exporter": "python",
   "pygments_lexer": "ipython3",
   "version": "3.12.7"
  }
 },
 "nbformat": 4,
 "nbformat_minor": 2
}
